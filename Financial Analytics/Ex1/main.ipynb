{
 "cells": [
  {
   "cell_type": "code",
   "execution_count": 24,
   "metadata": {},
   "outputs": [],
   "source": [
    "import pandas as pd\n",
    "import numpy as np\n",
    "import yfinance as yf\n",
    "from sklearn.linear_model import LinearRegression\n",
    "import matplotlib.pyplot as plt\n",
    "from tabulate import tabulate\n",
    "from scipy import stats"
   ]
  },
  {
   "cell_type": "code",
   "execution_count": 25,
   "metadata": {},
   "outputs": [
    {
     "name": "stderr",
     "output_type": "stream",
     "text": [
      "[*********************100%%**********************]  1 of 1 completed\n",
      "[*********************100%%**********************]  1 of 1 completed\n"
     ]
    }
   ],
   "source": [
    "# Step 1: Data Collection\n",
    "start_date = '2017-01-01'\n",
    "end_date = '2024-04-30'\n",
    "usd_ils_data = yf.download('USDILS=X', start=start_date, end=end_date)['Adj Close']\n",
    "nasdaq_data = yf.download('^IXIC', start=start_date, end=end_date)['Adj Close']"
   ]
  },
  {
   "cell_type": "code",
   "execution_count": 26,
   "metadata": {},
   "outputs": [
    {
     "data": {
      "text/plain": [
       "Date\n",
       "2017-01-02    3.80016\n",
       "2017-01-03    3.84426\n",
       "2017-01-04    3.85426\n",
       "2017-01-05    3.85576\n",
       "2017-01-06    3.84556\n",
       "Name: Adj Close, dtype: float64"
      ]
     },
     "execution_count": 26,
     "metadata": {},
     "output_type": "execute_result"
    }
   ],
   "source": [
    "usd_ils_data.head()"
   ]
  },
  {
   "cell_type": "code",
   "execution_count": 27,
   "metadata": {},
   "outputs": [
    {
     "data": {
      "text/plain": [
       "(1907,)"
      ]
     },
     "execution_count": 27,
     "metadata": {},
     "output_type": "execute_result"
    }
   ],
   "source": [
    "usd_ils_data.shape"
   ]
  },
  {
   "cell_type": "code",
   "execution_count": 28,
   "metadata": {},
   "outputs": [
    {
     "data": {
      "text/plain": [
       "Date\n",
       "2017-01-03    5429.080078\n",
       "2017-01-04    5477.000000\n",
       "2017-01-05    5487.939941\n",
       "2017-01-06    5521.060059\n",
       "2017-01-09    5531.819824\n",
       "Name: Adj Close, dtype: float64"
      ]
     },
     "execution_count": 28,
     "metadata": {},
     "output_type": "execute_result"
    }
   ],
   "source": [
    "nasdaq_data.head()"
   ]
  },
  {
   "cell_type": "code",
   "execution_count": 29,
   "metadata": {},
   "outputs": [
    {
     "data": {
      "text/plain": [
       "(1842,)"
      ]
     },
     "execution_count": 29,
     "metadata": {},
     "output_type": "execute_result"
    }
   ],
   "source": [
    "nasdaq_data.shape"
   ]
  },
  {
   "cell_type": "code",
   "execution_count": 30,
   "metadata": {},
   "outputs": [],
   "source": [
    "# Step 2: Data Preparation\n",
    "usd_ils_yield = usd_ils_data.pct_change()\n",
    "nasdaq_yield = nasdaq_data.pct_change()"
   ]
  },
  {
   "cell_type": "code",
   "execution_count": 31,
   "metadata": {},
   "outputs": [
    {
     "data": {
      "text/plain": [
       "Date\n",
       "2017-01-02         NaN\n",
       "2017-01-03    0.011605\n",
       "2017-01-04    0.002601\n",
       "2017-01-05    0.000389\n",
       "2017-01-06   -0.002645\n",
       "Name: Adj Close, dtype: float64"
      ]
     },
     "execution_count": 31,
     "metadata": {},
     "output_type": "execute_result"
    }
   ],
   "source": [
    "usd_ils_yield.head()"
   ]
  },
  {
   "cell_type": "code",
   "execution_count": 32,
   "metadata": {},
   "outputs": [
    {
     "data": {
      "text/plain": [
       "1"
      ]
     },
     "execution_count": 32,
     "metadata": {},
     "output_type": "execute_result"
    }
   ],
   "source": [
    "usd_ils_yield.isnull().sum()"
   ]
  },
  {
   "cell_type": "code",
   "execution_count": 33,
   "metadata": {},
   "outputs": [
    {
     "data": {
      "text/plain": [
       "Date\n",
       "2017-01-03         NaN\n",
       "2017-01-04    0.008827\n",
       "2017-01-05    0.001997\n",
       "2017-01-06    0.006035\n",
       "2017-01-09    0.001949\n",
       "Name: Adj Close, dtype: float64"
      ]
     },
     "execution_count": 33,
     "metadata": {},
     "output_type": "execute_result"
    }
   ],
   "source": [
    "nasdaq_yield.head()"
   ]
  },
  {
   "cell_type": "code",
   "execution_count": 34,
   "metadata": {},
   "outputs": [
    {
     "data": {
      "text/plain": [
       "1"
      ]
     },
     "execution_count": 34,
     "metadata": {},
     "output_type": "execute_result"
    }
   ],
   "source": [
    "nasdaq_yield.isnull().sum()"
   ]
  },
  {
   "cell_type": "code",
   "execution_count": 35,
   "metadata": {},
   "outputs": [],
   "source": [
    "merged_data = pd.concat([usd_ils_yield, nasdaq_yield], axis=1, join='inner')\n",
    "merged_data.dropna(inplace=True)\n",
    "usd_ils_yield_cleaned = merged_data.iloc[:, 0]\n",
    "nasdaq_yield_cleaned = merged_data.iloc[:, 1]"
   ]
  },
  {
   "cell_type": "code",
   "execution_count": 36,
   "metadata": {},
   "outputs": [],
   "source": [
    "# Step 3: Data Splitting\n",
    "train_start = '2017-01-01'\n",
    "train_end = '2020-12-31'\n",
    "test_start = '2021-01-01'\n",
    "test_end = '2023-12-31'"
   ]
  },
  {
   "cell_type": "code",
   "execution_count": 37,
   "metadata": {},
   "outputs": [],
   "source": [
    "usd_ils_yield_train = usd_ils_yield_cleaned[train_start:train_end]\n",
    "nasdaq_yield_train = nasdaq_yield_cleaned[train_start:train_end]\n",
    "usd_ils_yield_test = usd_ils_yield_cleaned[test_start:test_end]\n",
    "nasdaq_yield_test = nasdaq_yield_cleaned[test_start:test_end]"
   ]
  },
  {
   "cell_type": "code",
   "execution_count": 38,
   "metadata": {},
   "outputs": [],
   "source": [
    "# Step 4: Regression Analysis\n",
    "X_train = nasdaq_yield_train.values.reshape(-1, 1)\n",
    "y_train = usd_ils_yield_train.values\n",
    "\n",
    "model = LinearRegression().fit(X_train, y_train)"
   ]
  },
  {
   "cell_type": "code",
   "execution_count": 39,
   "metadata": {},
   "outputs": [
    {
     "name": "stdout",
     "output_type": "stream",
     "text": [
      "0.07236455756326975\n"
     ]
    }
   ],
   "source": [
    "correlation_coefficient = merged_data.corr().iloc[0, 1]\n",
    "print(correlation_coefficient)"
   ]
  },
  {
   "cell_type": "markdown",
   "metadata": {},
   "source": [
    "As we can see the correlation is almost non existant"
   ]
  },
  {
   "cell_type": "code",
   "execution_count": 40,
   "metadata": {},
   "outputs": [],
   "source": [
    "# Step 5: Interpret the Results\n",
    "intercept = model.intercept_\n",
    "slope = model.coef_[0]\n",
    "r_squared = model.score(X_train, y_train)\n",
    "_, p_value = stats.pearsonr(nasdaq_yield_cleaned, usd_ils_yield_cleaned)"
   ]
  },
  {
   "cell_type": "code",
   "execution_count": 41,
   "metadata": {},
   "outputs": [
    {
     "name": "stdout",
     "output_type": "stream",
     "text": [
      "+-----------+--------------+\n",
      "| Metric    |        Value |\n",
      "+===========+==============+\n",
      "| Intercept | -0.000183295 |\n",
      "+-----------+--------------+\n",
      "| Slope     |  0.0383505   |\n",
      "+-----------+--------------+\n",
      "| R-squared |  0.0147348   |\n",
      "+-----------+--------------+\n",
      "| P-value   |  0.00191233  |\n",
      "+-----------+--------------+\n"
     ]
    }
   ],
   "source": [
    "# Create a table\n",
    "table = [[\"Intercept\", intercept],\n",
    "         [\"Slope\", slope],\n",
    "         [\"R-squared\", r_squared],\n",
    "         [\"P-value\", p_value]]\n",
    "\n",
    "# Print the table\n",
    "print(tabulate(table, headers=[\"Metric\", \"Value\"], tablefmt=\"grid\"))"
   ]
  },
  {
   "cell_type": "code",
   "execution_count": 42,
   "metadata": {},
   "outputs": [],
   "source": [
    "# Step 6: Model Testing\n",
    "X_test = nasdaq_yield_test.values.reshape(-1, 1)\n",
    "y_test = usd_ils_yield_test.values\n",
    "y_pred = model.predict(X_test)\n",
    "\n",
    "residuals = y_test - y_pred\n",
    "residual_mean = np.mean(residuals)\n",
    "residual_std = np.std(residuals)"
   ]
  },
  {
   "cell_type": "code",
   "execution_count": 43,
   "metadata": {},
   "outputs": [
    {
     "data": {
      "image/png": "[encoded data removed]",
      "text/plain": [
       "<Figure size 640x480 with 1 Axes>"
      ]
     },
     "metadata": {},
     "output_type": "display_data"
    },
    {
     "name": "stdout",
     "output_type": "stream",
     "text": [
      "\n",
      "Residual Mean: 0.00033613807725644146\n",
      "Residual Standard Deviation: 0.0061438657352800696\n"
     ]
    }
   ],
   "source": [
    "# Calculate residuals\n",
    "residuals = y_test - y_pred\n",
    "\n",
    "# Calculate mean and standard deviation of residuals\n",
    "residual_mean = np.mean(residuals)\n",
    "residual_std = np.std(residuals)\n",
    "\n",
    "# Plot histogram of residuals\n",
    "plt.hist(residuals, bins=20, color='skyblue', edgecolor='black')\n",
    "plt.title('Histogram of Residuals')\n",
    "plt.xlabel('Residuals')\n",
    "plt.ylabel('Frequency')\n",
    "plt.grid(True)\n",
    "plt.axvline(x=residual_mean, color='red', linestyle='--', linewidth=1.5, label='Mean')\n",
    "plt.legend()\n",
    "plt.show()\n",
    "\n",
    "# Display the information\n",
    "print(\"\\nResidual Mean:\", residual_mean)\n",
    "print(\"Residual Standard Deviation:\", residual_std)\n"
   ]
  },
  {
   "cell_type": "code",
   "execution_count": 44,
   "metadata": {},
   "outputs": [
    {
     "name": "stdout",
     "output_type": "stream",
     "text": [
      "                   Interval  Coefficient (β1)  Intercept (β0)  R-squared  \\\n",
      "0  2017-01-01 to 2018-12-31          0.010675       -0.000033   0.000966   \n",
      "1  2019-01-01 to 2020-12-31          0.048680       -0.000334   0.025378   \n",
      "2  2021-01-01 to 2022-12-31          0.005054        0.000178   0.000210   \n",
      "3  2023-01-01 to 2024-04-30          0.047190        0.000272   0.005387   \n",
      "\n",
      "   Correlation Coefficient  \n",
      "0                 0.031080  \n",
      "1                 0.159304  \n",
      "2                 0.014480  \n",
      "3                 0.073397  \n"
     ]
    }
   ],
   "source": [
    "# Define the intervals or segments based on time periods\n",
    "intervals = [\n",
    "    ('2017-01-01', '2018-12-31'),\n",
    "    ('2019-01-01', '2020-12-31'),\n",
    "    ('2021-01-01', '2022-12-31'),\n",
    "    ('2023-01-01', '2024-04-30')\n",
    "]\n",
    "\n",
    "# Perform segmented regression and correlation analyses for each interval\n",
    "results = []\n",
    "\n",
    "for interval in intervals:\n",
    "    start_date, end_date = interval\n",
    "    \n",
    "    # Filter data for the current interval\n",
    "    usd_ils_yield_interval = usd_ils_yield_cleaned[start_date:end_date]\n",
    "    nasdaq_yield_interval = nasdaq_yield_cleaned[start_date:end_date]\n",
    "    \n",
    "    # Fit linear regression model\n",
    "    X = nasdaq_yield_interval.values.reshape(-1, 1)\n",
    "    y = usd_ils_yield_interval.values\n",
    "    model = LinearRegression().fit(X, y)\n",
    "    \n",
    "    # Calculate Pearson correlation coefficient\n",
    "    correlation_coefficient, _ = stats.pearsonr(nasdaq_yield_interval, usd_ils_yield_interval)\n",
    "    \n",
    "    # Store results\n",
    "    results.append({\n",
    "        'Interval': f'{start_date} to {end_date}',\n",
    "        'Coefficient (β1)': model.coef_[0],\n",
    "        'Intercept (β0)': model.intercept_,\n",
    "        'R-squared': model.score(X, y),\n",
    "        'Correlation Coefficient': correlation_coefficient\n",
    "    })\n",
    "\n",
    "# Create DataFrame to display results\n",
    "results_df = pd.DataFrame(results)\n",
    "print(results_df)"
   ]
  },
  {
   "cell_type": "code",
   "execution_count": 48,
   "metadata": {},
   "outputs": [
    {
     "data": {
      "image/png": "[encoded data removed]",
      "text/plain": [
       "<Figure size 1200x600 with 1 Axes>"
      ]
     },
     "metadata": {},
     "output_type": "display_data"
    },
    {
     "name": "stdout",
     "output_type": "stream",
     "text": [
      "Intercept (β0): -0.00018329499081118564\n",
      "Coefficient (β1): 0.03835045652827475\n",
      "R-squared: 0.014734769738107611\n",
      "p-values: 0.0019123303671890579\n",
      "Mean of Residuals: 0.00033613807725644146\n",
      "Standard Deviation of Residuals: 0.0061438657352800696\n"
     ]
    }
   ],
   "source": [
    "# Step 7: Variations over time\n",
    "rolling_correlation = usd_ils_yield.rolling(window=30).corr(nasdaq_yield)\n",
    "\n",
    "# Plotting\n",
    "plt.figure(figsize=(12, 6))\n",
    "rolling_correlation.plot(title='Rolling Correlation (30-day window) between USD/ILS and NASDAQ')\n",
    "plt.axhline(0, color='red', linestyle='--')\n",
    "plt.xlabel('Date')\n",
    "plt.ylabel('Correlation')\n",
    "plt.show()\n",
    "\n",
    "# Print Results\n",
    "print(\"Intercept (β0):\", intercept)\n",
    "print(\"Coefficient (β1):\", slope)\n",
    "print(\"R-squared:\", r_squared)\n",
    "print(\"p-values:\", p_value)\n",
    "print(\"Mean of Residuals:\", residual_mean)\n",
    "print(\"Standard Deviation of Residuals:\", residual_std)\n"
   ]
  }
 ],
 "metadata": {
  "kernelspec": {
   "display_name": "Python 3",
   "language": "python",
   "name": "python3"
  },
  "language_info": {
   "codemirror_mode": {
    "name": "ipython",
    "version": 3
   },
   "file_extension": ".py",
   "mimetype": "text/x-python",
   "name": "python",
   "nbconvert_exporter": "python",
   "pygments_lexer": "ipython3",
   "version": "3.11.5"
  }
 },
 "nbformat": 4,
 "nbformat_minor": 2
}
